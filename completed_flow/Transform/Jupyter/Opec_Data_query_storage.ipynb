{
 "cells": [
  {
   "cell_type": "code",
   "execution_count": 1,
   "metadata": {},
   "outputs": [],
   "source": [
    "# some_file.py\n",
    "#import sys\n",
    "# insert at 1, 0 is the script path (or '' in REPL)\n",
    "#sys.path.insert(1, 'oil_api')\n",
    "import os\n",
    "import pandas as pd"
   ]
  },
  {
   "cell_type": "code",
   "execution_count": 2,
   "metadata": {},
   "outputs": [],
   "source": [
    "  \n",
    "opec_storage_water = pd.read_csv('../Extract/opec/opec_storage_water.csv')  \n",
    " \n",
    "\n",
    " "
   ]
  },
  {
   "cell_type": "code",
   "execution_count": 3,
   "metadata": {},
   "outputs": [],
   "source": [
    "opec_storage_water = opec_storage_water.drop(opec_storage_water.columns[0], axis=1)"
   ]
  },
  {
   "cell_type": "code",
   "execution_count": 4,
   "metadata": {},
   "outputs": [
    {
     "name": "stderr",
     "output_type": "stream",
     "text": [
      "C:\\Users\\tmahn\\Anaconda3.7\\lib\\site-packages\\ipykernel_launcher.py:3: SettingWithCopyWarning: \n",
      "A value is trying to be set on a copy of a slice from a DataFrame.\n",
      "Try using .loc[row_indexer,col_indexer] = value instead\n",
      "\n",
      "See the caveats in the documentation: https://pandas.pydata.org/pandas-docs/stable/user_guide/indexing.html#returning-a-view-versus-a-copy\n",
      "  This is separate from the ipykernel package so we can avoid doing imports until\n",
      "C:\\Users\\tmahn\\Anaconda3.7\\lib\\site-packages\\pandas\\core\\frame.py:3997: SettingWithCopyWarning: \n",
      "A value is trying to be set on a copy of a slice from a DataFrame\n",
      "\n",
      "See the caveats in the documentation: https://pandas.pydata.org/pandas-docs/stable/user_guide/indexing.html#returning-a-view-versus-a-copy\n",
      "  errors=errors,\n"
     ]
    }
   ],
   "source": [
    "total_oil_storage = opec_storage_water.iloc[[3,4,5,7,8,9,11],:]\n",
    "Categories = ['OECD Onland Commercial','OECD Onland Commercial','OECD Onland Commercial','OECD SPR','OECD SPR','OECD SPR','Oil-on-water']\n",
    "total_oil_storage['_'] = Categories\n",
    "total_oil_storage.drop('-',axis=1,inplace=True)"
   ]
  },
  {
   "cell_type": "code",
   "execution_count": 5,
   "metadata": {},
   "outputs": [
    {
     "name": "stderr",
     "output_type": "stream",
     "text": [
      "C:\\Users\\tmahn\\Anaconda3.7\\lib\\site-packages\\pandas\\core\\frame.py:4133: SettingWithCopyWarning: \n",
      "A value is trying to be set on a copy of a slice from a DataFrame\n",
      "\n",
      "See the caveats in the documentation: https://pandas.pydata.org/pandas-docs/stable/user_guide/indexing.html#returning-a-view-versus-a-copy\n",
      "  errors=errors,\n"
     ]
    }
   ],
   "source": [
    "total_oil_storage.reset_index(drop=True,inplace=True)\n",
    "total_oil_storage.rename(columns={'_':'Storage Type'},inplace=True)"
   ]
  },
  {
   "cell_type": "code",
   "execution_count": 6,
   "metadata": {},
   "outputs": [
    {
     "name": "stderr",
     "output_type": "stream",
     "text": [
      "C:\\Users\\tmahn\\Anaconda3.7\\lib\\site-packages\\ipykernel_launcher.py:1: SettingWithCopyWarning: \n",
      "A value is trying to be set on a copy of a slice from a DataFrame\n",
      "\n",
      "See the caveats in the documentation: https://pandas.pydata.org/pandas-docs/stable/user_guide/indexing.html#returning-a-view-versus-a-copy\n",
      "  \"\"\"Entry point for launching an IPython kernel.\n",
      "C:\\Users\\tmahn\\Anaconda3.7\\lib\\site-packages\\IPython\\core\\interactiveshell.py:3331: SettingWithCopyWarning: \n",
      "A value is trying to be set on a copy of a slice from a DataFrame\n",
      "\n",
      "See the caveats in the documentation: https://pandas.pydata.org/pandas-docs/stable/user_guide/indexing.html#returning-a-view-versus-a-copy\n",
      "  exec(code_obj, self.user_global_ns, self.user_ns)\n"
     ]
    }
   ],
   "source": [
    "total_oil_storage['Country'][6] = 'Global'"
   ]
  },
  {
   "cell_type": "code",
   "execution_count": 7,
   "metadata": {},
   "outputs": [],
   "source": [
    "total_oil_storage.set_index('Storage Type',drop=True,inplace=True)"
   ]
  },
  {
   "cell_type": "code",
   "execution_count": 8,
   "metadata": {},
   "outputs": [
    {
     "data": {
      "text/html": [
       "<div>\n",
       "<style scoped>\n",
       "    .dataframe tbody tr th:only-of-type {\n",
       "        vertical-align: middle;\n",
       "    }\n",
       "\n",
       "    .dataframe tbody tr th {\n",
       "        vertical-align: top;\n",
       "    }\n",
       "\n",
       "    .dataframe thead th {\n",
       "        text-align: right;\n",
       "    }\n",
       "</style>\n",
       "<table border=\"1\" class=\"dataframe\">\n",
       "  <thead>\n",
       "    <tr style=\"text-align: right;\">\n",
       "      <th></th>\n",
       "      <th>Country</th>\n",
       "      <th>2017</th>\n",
       "      <th>2018</th>\n",
       "      <th>2019</th>\n",
       "      <th>Q417</th>\n",
       "      <th>1Q18</th>\n",
       "      <th>2Q18</th>\n",
       "      <th>3Q18</th>\n",
       "      <th>4Q18</th>\n",
       "      <th>1Q19</th>\n",
       "      <th>2Q19</th>\n",
       "      <th>3Q19</th>\n",
       "      <th>4Q19</th>\n",
       "    </tr>\n",
       "    <tr>\n",
       "      <th>Storage Type</th>\n",
       "      <th></th>\n",
       "      <th></th>\n",
       "      <th></th>\n",
       "      <th></th>\n",
       "      <th></th>\n",
       "      <th></th>\n",
       "      <th></th>\n",
       "      <th></th>\n",
       "      <th></th>\n",
       "      <th></th>\n",
       "      <th></th>\n",
       "      <th></th>\n",
       "      <th></th>\n",
       "    </tr>\n",
       "  </thead>\n",
       "  <tbody>\n",
       "    <tr>\n",
       "      <th>OECD Onland Commercial</th>\n",
       "      <td>Americas</td>\n",
       "      <td>1498.320000</td>\n",
       "      <td>1543.608000</td>\n",
       "      <td>1538.353000</td>\n",
       "      <td>1498.320000</td>\n",
       "      <td>1470.756000</td>\n",
       "      <td>1473.027000</td>\n",
       "      <td>1542.864000</td>\n",
       "      <td>1543.608000</td>\n",
       "      <td>1508.310000</td>\n",
       "      <td>1564.778000</td>\n",
       "      <td>1558.805000</td>\n",
       "      <td>1538.353000</td>\n",
       "    </tr>\n",
       "    <tr>\n",
       "      <th>OECD Onland Commercial</th>\n",
       "      <td>Europe</td>\n",
       "      <td>948.008000</td>\n",
       "      <td>929.726000</td>\n",
       "      <td>972.097000</td>\n",
       "      <td>948.008000</td>\n",
       "      <td>967.596000</td>\n",
       "      <td>951.753000</td>\n",
       "      <td>932.803000</td>\n",
       "      <td>929.726000</td>\n",
       "      <td>988.857000</td>\n",
       "      <td>982.194000</td>\n",
       "      <td>987.241000</td>\n",
       "      <td>972.097000</td>\n",
       "    </tr>\n",
       "    <tr>\n",
       "      <th>OECD Onland Commercial</th>\n",
       "      <td>Asia Pacific</td>\n",
       "      <td>413.212000</td>\n",
       "      <td>399.813000</td>\n",
       "      <td>391.245000</td>\n",
       "      <td>413.212000</td>\n",
       "      <td>377.882000</td>\n",
       "      <td>387.626000</td>\n",
       "      <td>389.667000</td>\n",
       "      <td>399.813000</td>\n",
       "      <td>379.484000</td>\n",
       "      <td>388.911000</td>\n",
       "      <td>398.561000</td>\n",
       "      <td>391.245000</td>\n",
       "    </tr>\n",
       "    <tr>\n",
       "      <th>OECD SPR</th>\n",
       "      <td>Americas</td>\n",
       "      <td>664.830000</td>\n",
       "      <td>651.138000</td>\n",
       "      <td>636.966000</td>\n",
       "      <td>664.830000</td>\n",
       "      <td>667.455000</td>\n",
       "      <td>662.014000</td>\n",
       "      <td>662.008000</td>\n",
       "      <td>651.138000</td>\n",
       "      <td>651.125000</td>\n",
       "      <td>646.817000</td>\n",
       "      <td>646.817000</td>\n",
       "      <td>636.966000</td>\n",
       "    </tr>\n",
       "    <tr>\n",
       "      <th>OECD SPR</th>\n",
       "      <td>Europe</td>\n",
       "      <td>481.074000</td>\n",
       "      <td>480.752000</td>\n",
       "      <td>482.174000</td>\n",
       "      <td>481.074000</td>\n",
       "      <td>487.444000</td>\n",
       "      <td>490.500000</td>\n",
       "      <td>485.918000</td>\n",
       "      <td>480.752000</td>\n",
       "      <td>488.448000</td>\n",
       "      <td>484.597000</td>\n",
       "      <td>481.857000</td>\n",
       "      <td>482.174000</td>\n",
       "    </tr>\n",
       "    <tr>\n",
       "      <th>OECD SPR</th>\n",
       "      <td>Asia Pacific</td>\n",
       "      <td>423.019000</td>\n",
       "      <td>419.833000</td>\n",
       "      <td>416.200000</td>\n",
       "      <td>423.019000</td>\n",
       "      <td>422.024000</td>\n",
       "      <td>422.016000</td>\n",
       "      <td>422.123000</td>\n",
       "      <td>419.833000</td>\n",
       "      <td>417.349000</td>\n",
       "      <td>417.393000</td>\n",
       "      <td>415.802000</td>\n",
       "      <td>416.200000</td>\n",
       "    </tr>\n",
       "    <tr>\n",
       "      <th>Oil-on-water</th>\n",
       "      <td>Global</td>\n",
       "      <td>1025.065438</td>\n",
       "      <td>1058.455638</td>\n",
       "      <td>1011.455638</td>\n",
       "      <td>1025.065438</td>\n",
       "      <td>1036.455638</td>\n",
       "      <td>1014.455638</td>\n",
       "      <td>1041.455638</td>\n",
       "      <td>1058.455638</td>\n",
       "      <td>1013.455638</td>\n",
       "      <td>995.455638</td>\n",
       "      <td>1012.455638</td>\n",
       "      <td>1011.455638</td>\n",
       "    </tr>\n",
       "  </tbody>\n",
       "</table>\n",
       "</div>"
      ],
      "text/plain": [
       "                             Country         2017         2018         2019  \\\n",
       "Storage Type                                                                  \n",
       "OECD Onland Commercial      Americas  1498.320000  1543.608000  1538.353000   \n",
       "OECD Onland Commercial        Europe   948.008000   929.726000   972.097000   \n",
       "OECD Onland Commercial  Asia Pacific   413.212000   399.813000   391.245000   \n",
       "OECD SPR                    Americas   664.830000   651.138000   636.966000   \n",
       "OECD SPR                      Europe   481.074000   480.752000   482.174000   \n",
       "OECD SPR                Asia Pacific   423.019000   419.833000   416.200000   \n",
       "Oil-on-water                  Global  1025.065438  1058.455638  1011.455638   \n",
       "\n",
       "                               Q417         1Q18         2Q18         3Q18  \\\n",
       "Storage Type                                                                 \n",
       "OECD Onland Commercial  1498.320000  1470.756000  1473.027000  1542.864000   \n",
       "OECD Onland Commercial   948.008000   967.596000   951.753000   932.803000   \n",
       "OECD Onland Commercial   413.212000   377.882000   387.626000   389.667000   \n",
       "OECD SPR                 664.830000   667.455000   662.014000   662.008000   \n",
       "OECD SPR                 481.074000   487.444000   490.500000   485.918000   \n",
       "OECD SPR                 423.019000   422.024000   422.016000   422.123000   \n",
       "Oil-on-water            1025.065438  1036.455638  1014.455638  1041.455638   \n",
       "\n",
       "                               4Q18         1Q19         2Q19         3Q19  \\\n",
       "Storage Type                                                                 \n",
       "OECD Onland Commercial  1543.608000  1508.310000  1564.778000  1558.805000   \n",
       "OECD Onland Commercial   929.726000   988.857000   982.194000   987.241000   \n",
       "OECD Onland Commercial   399.813000   379.484000   388.911000   398.561000   \n",
       "OECD SPR                 651.138000   651.125000   646.817000   646.817000   \n",
       "OECD SPR                 480.752000   488.448000   484.597000   481.857000   \n",
       "OECD SPR                 419.833000   417.349000   417.393000   415.802000   \n",
       "Oil-on-water            1058.455638  1013.455638   995.455638  1012.455638   \n",
       "\n",
       "                               4Q19  \n",
       "Storage Type                         \n",
       "OECD Onland Commercial  1538.353000  \n",
       "OECD Onland Commercial   972.097000  \n",
       "OECD Onland Commercial   391.245000  \n",
       "OECD SPR                 636.966000  \n",
       "OECD SPR                 482.174000  \n",
       "OECD SPR                 416.200000  \n",
       "Oil-on-water            1011.455638  "
      ]
     },
     "execution_count": 8,
     "metadata": {},
     "output_type": "execute_result"
    }
   ],
   "source": [
    "total_oil_storage.to_csv('../data/world_storage.csv')\n",
    "total_oil_storage"
   ]
  },
  {
   "cell_type": "code",
   "execution_count": null,
   "metadata": {},
   "outputs": [],
   "source": []
  },
  {
   "cell_type": "code",
   "execution_count": null,
   "metadata": {},
   "outputs": [],
   "source": []
  }
 ],
 "metadata": {
  "kernelspec": {
   "display_name": "Python 3",
   "language": "python",
   "name": "python3"
  },
  "language_info": {
   "codemirror_mode": {
    "name": "ipython",
    "version": 3
   },
   "file_extension": ".py",
   "mimetype": "text/x-python",
   "name": "python",
   "nbconvert_exporter": "python",
   "pygments_lexer": "ipython3",
   "version": "3.7.3"
  }
 },
 "nbformat": 4,
 "nbformat_minor": 4
}
