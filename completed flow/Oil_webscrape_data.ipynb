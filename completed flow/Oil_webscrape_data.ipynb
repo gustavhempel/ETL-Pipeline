{
 "cells": [
  {
   "cell_type": "code",
   "execution_count": 1,
   "metadata": {},
   "outputs": [],
   "source": [
    "import pandas as pd"
   ]
  },
  {
   "cell_type": "code",
   "execution_count": 2,
   "metadata": {},
   "outputs": [],
   "source": [
    "oil_consumption_url = 'http://en.wikipedia.org/wiki/List_of_countries_by_oil_consumption'\n",
    "oil_production_url = 'http://en.wikipedia.org/wiki/List_of_countries_by_oil_production'\n",
    "oil_reserves_url = 'http://en.wikipedia.org/wiki/List_of_countries_by_proven_oil_reserves'"
   ]
  },
  {
   "cell_type": "code",
   "execution_count": 3,
   "metadata": {},
   "outputs": [],
   "source": [
    "oil_consumption_df = pd.read_html(oil_consumption_url)[0]\n",
    "oil_consumption_df.rename(columns={'Oil consumption(bbl/day)':'Barrel consumption/day'},inplace=True)\n",
    "oil_consumption_df['Rank'].replace('-','NaN',inplace=True)\n",
    "oil_consumption_df['Barrel consumption/day'] = oil_consumption_df['Barrel consumption/day'].apply(lambda x: x.split('[')[0])\n",
    "oil_consumption_df['Year'] = oil_consumption_df['Year'].apply(lambda x: x.split(' ')[0])\n",
    "\n",
    "def remove_tags(x):\n",
    "    split_string = x.split(']')\n",
    "    if len(split_string[0]) != 4:\n",
    "        return split_string[1]\n",
    "    else:\n",
    "        return split_string[0]\n",
    "\n",
    "oil_consumption_df['Year'] = oil_consumption_df['Year'].apply(lambda x: remove_tags(x))\n",
    "oil_consumption_df['Country/Region'] = oil_consumption_df['Country/Region'].apply(lambda x: x.split('(')[0])\n",
    "oil_consumption_df.to_csv('data/exported_data/oil_consumption_scrape_data.csv')"
   ]
  },
  {
   "cell_type": "code",
   "execution_count": 4,
   "metadata": {},
   "outputs": [],
   "source": [
    "oil_production_df = pd.read_html(oil_production_url)[0]\n",
    "oil_production_df.drop(oil_production_df.columns[oil_production_df.columns.str.contains('unnamed',case = False)],axis = 1, inplace = True)\n",
    "oil_production_df.rename(columns={'Oil production2019 (bbl/day)[1]':'2019 Crude Oil Barrel production/day',\n",
    "                                 'Oil production per capita2017 (bbl/day/million people)[5]':\n",
    "                                  '2017 Crude Oil Barrel production/day/million people'},inplace=True)\n",
    "oil_production_df['Country'] = oil_production_df['Country'].apply(lambda x: x.split('[')[0])\n",
    "oil_production_df['Country'] = oil_production_df['Country'].apply(lambda x: x.split('(')[0])\n",
    "oil_production_df['Country'].replace('World production','World',inplace=True)\n",
    "oil_production_df.to_csv('data/exported_data/oil_production_scrape_data.csv')"
   ]
  },
  {
   "cell_type": "code",
   "execution_count": 5,
   "metadata": {},
   "outputs": [
    {
     "name": "stderr",
     "output_type": "stream",
     "text": [
      "C:\\Users\\tmahn\\Anaconda3.7\\lib\\site-packages\\ipykernel_launcher.py:8: SettingWithCopyWarning: \n",
      "A value is trying to be set on a copy of a slice from a DataFrame.\n",
      "Try using .loc[row_indexer,col_indexer] = value instead\n",
      "\n",
      "See the caveats in the documentation: https://pandas.pydata.org/pandas-docs/stable/user_guide/indexing.html#returning-a-view-versus-a-copy\n",
      "  \n",
      "C:\\Users\\tmahn\\Anaconda3.7\\lib\\site-packages\\pandas\\core\\generic.py:6746: SettingWithCopyWarning: \n",
      "A value is trying to be set on a copy of a slice from a DataFrame\n",
      "\n",
      "See the caveats in the documentation: https://pandas.pydata.org/pandas-docs/stable/user_guide/indexing.html#returning-a-view-versus-a-copy\n",
      "  self._update_inplace(new_data)\n",
      "C:\\Users\\tmahn\\Anaconda3.7\\lib\\site-packages\\ipykernel_launcher.py:13: SettingWithCopyWarning: \n",
      "A value is trying to be set on a copy of a slice from a DataFrame.\n",
      "Try using .loc[row_indexer,col_indexer] = value instead\n",
      "\n",
      "See the caveats in the documentation: https://pandas.pydata.org/pandas-docs/stable/user_guide/indexing.html#returning-a-view-versus-a-copy\n",
      "  del sys.path[0]\n",
      "C:\\Users\\tmahn\\Anaconda3.7\\lib\\site-packages\\ipykernel_launcher.py:18: SettingWithCopyWarning: \n",
      "A value is trying to be set on a copy of a slice from a DataFrame.\n",
      "Try using .loc[row_indexer,col_indexer] = value instead\n",
      "\n",
      "See the caveats in the documentation: https://pandas.pydata.org/pandas-docs/stable/user_guide/indexing.html#returning-a-view-versus-a-copy\n"
     ]
    }
   ],
   "source": [
    "oil_reserves_df = pd.read_html(oil_reserves_url)[0]\n",
    "\n",
    "countries_list = oil_reserves_df['Proven reserves (millions of barrels)']['Country']\n",
    "countries_list = countries_list.apply(lambda x: x.split('(')[0])\n",
    "countries_list\n",
    "\n",
    "start_2017_reserves_df = oil_reserves_df['U.S. EIA (start of 2017)[2]']\n",
    "start_2017_reserves_df['Country'] = countries_list\n",
    "start_2017_reserves_df['Country'].replace('World total','World',inplace=True)\n",
    "start_2017_reserves_df.set_index('Country',inplace=True)\n",
    "\n",
    "end_2017_reserves_df = oil_reserves_df['OPEC (end of 2017)[3]']\n",
    "end_2017_reserves_df['Country'] = countries_list\n",
    "end_2017_reserves_df['Country'].replace('World total','World',inplace=True)\n",
    "end_2017_reserves_df.set_index('Country',inplace=True)\n",
    "\n",
    "end_2015_reserves_df = oil_reserves_df['BP (end of 2015)[4]']\n",
    "end_2015_reserves_df['Country'] = countries_list\n",
    "end_2015_reserves_df['Country'].replace('World total','World',inplace=True)\n",
    "end_2015_reserves_df.set_index('Country',inplace=True)\n",
    "\n",
    "compiled_oil_reserves_data = pd.concat([start_2017_reserves_df,end_2017_reserves_df,end_2015_reserves_df],\n",
    "                                       keys=['start_2017','end_2017','end_2015'])\n",
    "compiled_oil_reserves_data.to_csv('data/exported_data/compiled_oil_reserves_scraped_data.csv')"
   ]
  },
  {
   "cell_type": "code",
   "execution_count": null,
   "metadata": {},
   "outputs": [],
   "source": []
  },
  {
   "cell_type": "code",
   "execution_count": null,
   "metadata": {},
   "outputs": [],
   "source": []
  }
 ],
 "metadata": {
  "kernelspec": {
   "display_name": "Python 3",
   "language": "python",
   "name": "python3"
  },
  "language_info": {
   "codemirror_mode": {
    "name": "ipython",
    "version": 3
   },
   "file_extension": ".py",
   "mimetype": "text/x-python",
   "name": "python",
   "nbconvert_exporter": "python",
   "pygments_lexer": "ipython3",
   "version": "3.7.3"
  }
 },
 "nbformat": 4,
 "nbformat_minor": 4
}
